{
 "cells": [
  {
   "cell_type": "code",
   "execution_count": 1,
   "id": "488e845f-cfb7-429b-9fba-4c4d9c326835",
   "metadata": {
    "tags": []
   },
   "outputs": [],
   "source": [
    "import torch\n",
    "import torch.nn.functional as F\n",
    "import matplotlib.pyplot as plt\n",
    "%matplotlib inline"
   ]
  },
  {
   "cell_type": "code",
   "execution_count": 2,
   "id": "866659c0-4998-4e80-b55b-303b29b67870",
   "metadata": {
    "tags": []
   },
   "outputs": [
    {
     "data": {
      "text/plain": [
       "['emma', 'olivia', 'ava', 'isabella', 'sophia', 'charlotte', 'mia', 'amelia']"
      ]
     },
     "execution_count": 2,
     "metadata": {},
     "output_type": "execute_result"
    }
   ],
   "source": [
    "#to read the words\n",
    "words = open('names.txt', 'r').read().splitlines()\n",
    "words[:8]"
   ]
  },
  {
   "cell_type": "code",
   "execution_count": 3,
   "id": "ed4f3ca2-cb55-477f-b59e-f82c4af89941",
   "metadata": {
    "tags": []
   },
   "outputs": [
    {
     "data": {
      "text/plain": [
       "32033"
      ]
     },
     "execution_count": 3,
     "metadata": {},
     "output_type": "execute_result"
    }
   ],
   "source": [
    "len(words)"
   ]
  },
  {
   "cell_type": "code",
   "execution_count": 4,
   "id": "41d8a67b-773d-4aba-931e-cb540fe3652b",
   "metadata": {
    "tags": []
   },
   "outputs": [
    {
     "data": {
      "text/plain": [
       "{1: 'a',\n",
       " 2: 'b',\n",
       " 3: 'c',\n",
       " 4: 'd',\n",
       " 5: 'e',\n",
       " 6: 'f',\n",
       " 7: 'g',\n",
       " 8: 'h',\n",
       " 9: 'i',\n",
       " 10: 'j',\n",
       " 11: 'k',\n",
       " 12: 'l',\n",
       " 13: 'm',\n",
       " 14: 'n',\n",
       " 15: 'o',\n",
       " 16: 'p',\n",
       " 17: 'q',\n",
       " 18: 'r',\n",
       " 19: 's',\n",
       " 20: 't',\n",
       " 21: 'u',\n",
       " 22: 'v',\n",
       " 23: 'w',\n",
       " 24: 'x',\n",
       " 25: 'y',\n",
       " 26: 'z',\n",
       " 0: '.'}"
      ]
     },
     "execution_count": 4,
     "metadata": {},
     "output_type": "execute_result"
    }
   ],
   "source": [
    "chars = sorted(list(set(''.join(words))))\n",
    "stoi = {s:i+1 for i, s in enumerate(chars)}\n",
    "stoi['.'] = 0\n",
    "itos = {i:s for s, i in stoi.items()}\n",
    "itos"
   ]
  },
  {
   "cell_type": "code",
   "execution_count": 5,
   "id": "fe819898-a9e6-420b-b1d7-f6803cad448e",
   "metadata": {
    "tags": []
   },
   "outputs": [],
   "source": [
    "block_size = 3 # this represents how many letters of context the model considers before choosing the next letter\n",
    "X, Y = [], []\n",
    "\n",
    "for w in words:\n",
    "    #print(w)\n",
    "    context = [0] * block_size\n",
    "    for ch in w + '.':\n",
    "        ix = stoi[ch]\n",
    "        X.append(context)\n",
    "        Y.append(ix)\n",
    "        #print(''.join(itos[i] for i in context), '--->', itos[ix])\n",
    "        context = context[1:] + [ix]\n",
    "X = torch.tensor(X)\n",
    "Y = torch.tensor(Y)"
   ]
  },
  {
   "cell_type": "code",
   "execution_count": 6,
   "id": "67307637-2caa-463f-81f3-56ed58b17972",
   "metadata": {
    "tags": []
   },
   "outputs": [
    {
     "data": {
      "text/plain": [
       "(torch.Size([228146, 3]), torch.int64, torch.Size([228146]), torch.int64)"
      ]
     },
     "execution_count": 6,
     "metadata": {},
     "output_type": "execute_result"
    }
   ],
   "source": [
    "X.shape, X.dtype, Y.shape, Y.dtype"
   ]
  },
  {
   "cell_type": "code",
   "execution_count": 7,
   "id": "8ef3c6fc-6fca-4eb1-bc29-e91cdd7fb995",
   "metadata": {
    "tags": []
   },
   "outputs": [],
   "source": [
    "C = torch.randn((27, 2)) #embedding with 2 features"
   ]
  },
  {
   "cell_type": "code",
   "execution_count": 8,
   "id": "924d71f8-71ab-467e-9e13-4149f56a707d",
   "metadata": {
    "tags": []
   },
   "outputs": [
    {
     "data": {
      "text/plain": [
       "torch.Size([228146, 3, 2])"
      ]
     },
     "execution_count": 8,
     "metadata": {},
     "output_type": "execute_result"
    }
   ],
   "source": [
    "emb = C[X]\n",
    "emb.shape"
   ]
  },
  {
   "cell_type": "code",
   "execution_count": 9,
   "id": "884aa232-ed6d-4b7a-9091-64210f006432",
   "metadata": {
    "tags": []
   },
   "outputs": [],
   "source": [
    "W1 = torch.randn((6, 100)) # 3 input with 2d embeddings for each means 6 total inputs\n",
    "b1 = torch.randn(100)"
   ]
  },
  {
   "cell_type": "code",
   "execution_count": 10,
   "id": "91a986fc-a97c-4b7e-bac2-8328ac6872cb",
   "metadata": {
    "tags": []
   },
   "outputs": [
    {
     "data": {
      "text/plain": [
       "torch.Size([228146, 100])"
      ]
     },
     "execution_count": 10,
     "metadata": {},
     "output_type": "execute_result"
    }
   ],
   "source": [
    "h = torch.tanh(emb.view(-1, 6) @ W1 + b1)\n",
    "h.shape"
   ]
  },
  {
   "cell_type": "code",
   "execution_count": 11,
   "id": "b23c312b-a6f0-4fcb-aca6-526fd2f7bb9a",
   "metadata": {
    "tags": []
   },
   "outputs": [
    {
     "data": {
      "text/plain": [
       "torch.Size([228146, 6])"
      ]
     },
     "execution_count": 11,
     "metadata": {},
     "output_type": "execute_result"
    }
   ],
   "source": [
    "#need to transform the 32, 3, 2 into 32, 6\n",
    "torch.cat([emb[:, 0, :], emb[:, 1, :], emb[:, 2, :]], 1).shape"
   ]
  },
  {
   "cell_type": "code",
   "execution_count": 12,
   "id": "f6558f7f-6480-4cfa-a698-e82af24f0a7d",
   "metadata": {
    "tags": []
   },
   "outputs": [
    {
     "data": {
      "text/plain": [
       "torch.Size([228146, 6])"
      ]
     },
     "execution_count": 12,
     "metadata": {},
     "output_type": "execute_result"
    }
   ],
   "source": [
    "torch.cat(torch.unbind(emb, 1), 1).shape"
   ]
  },
  {
   "cell_type": "code",
   "execution_count": 13,
   "id": "041dfd02-58ff-45ba-a0e3-8c219dbfa719",
   "metadata": {
    "tags": []
   },
   "outputs": [
    {
     "data": {
      "text/plain": [
       "tensor([[[ 0,  1],\n",
       "         [ 2,  3],\n",
       "         [ 4,  5]],\n",
       "\n",
       "        [[ 6,  7],\n",
       "         [ 8,  9],\n",
       "         [10, 11]],\n",
       "\n",
       "        [[12, 13],\n",
       "         [14, 15],\n",
       "         [16, 17]]])"
      ]
     },
     "execution_count": 13,
     "metadata": {},
     "output_type": "execute_result"
    }
   ],
   "source": [
    "a = torch.arange(18)\n",
    "a.view(3, 3, 2) #View is extremely efficient apparently because it accesses the 1d version of the tensor \n",
    "# no new storage, just internals are being changed"
   ]
  },
  {
   "cell_type": "code",
   "execution_count": 14,
   "id": "14208ab4-1e3a-4f81-8fd6-592f79c59e88",
   "metadata": {
    "tags": []
   },
   "outputs": [],
   "source": [
    "W2 = torch.randn((100, 27)) # 27 possible outputs\n",
    "b2 = torch.randn(27)"
   ]
  },
  {
   "cell_type": "code",
   "execution_count": 15,
   "id": "52fafcc7-7914-4b47-9204-a7f4646d166c",
   "metadata": {
    "tags": []
   },
   "outputs": [
    {
     "data": {
      "text/plain": [
       "torch.Size([228146, 27])"
      ]
     },
     "execution_count": 15,
     "metadata": {},
     "output_type": "execute_result"
    }
   ],
   "source": [
    "logits = h @ W2 + b2\n",
    "counts = logits.exp()\n",
    "prob = counts / counts.sum(1, keepdims=True)\n",
    "prob.shape"
   ]
  },
  {
   "cell_type": "code",
   "execution_count": 23,
   "id": "f9516372-fa46-4254-9876-dfc1d35f3ec0",
   "metadata": {
    "tags": []
   },
   "outputs": [
    {
     "data": {
      "text/plain": [
       "tensor(16.6204)"
      ]
     },
     "execution_count": 23,
     "metadata": {},
     "output_type": "execute_result"
    }
   ],
   "source": [
    "loss = -(prob[torch.arange(228146), Y]).log().mean()\n",
    "loss"
   ]
  },
  {
   "cell_type": "markdown",
   "id": "f1443c3d-48de-4722-9d1b-5548c3d53858",
   "metadata": {},
   "source": [
    "# Rewritten below"
   ]
  },
  {
   "cell_type": "code",
   "execution_count": 24,
   "id": "505db0e4-9aed-4fe5-8401-4c853ca7f875",
   "metadata": {
    "tags": []
   },
   "outputs": [
    {
     "data": {
      "text/plain": [
       "(torch.Size([228146, 3]), torch.Size([228146]))"
      ]
     },
     "execution_count": 24,
     "metadata": {},
     "output_type": "execute_result"
    }
   ],
   "source": [
    "X.shape, Y.shape"
   ]
  },
  {
   "cell_type": "code",
   "execution_count": 45,
   "id": "67804ec3-f35c-4743-ad68-976092fb067b",
   "metadata": {
    "tags": []
   },
   "outputs": [
    {
     "name": "stdout",
     "output_type": "stream",
     "text": [
      "torch.Size([182625, 3]) torch.Size([182625])\n",
      "torch.Size([22655, 3]) torch.Size([22655])\n",
      "torch.Size([22866, 3]) torch.Size([22866])\n"
     ]
    }
   ],
   "source": [
    "def build_dataset(words):\n",
    "    block_size = 3 # this represents how many letters of context the model considers before choosing the next letter\n",
    "    X, Y = [], []\n",
    "\n",
    "    for w in words:\n",
    "        #print(w)\n",
    "        context = [0] * block_size\n",
    "        for ch in w + '.':\n",
    "            ix = stoi[ch]\n",
    "            X.append(context)\n",
    "            Y.append(ix)\n",
    "            #print(''.join(itos[i] for i in context), '--->', itos[ix])\n",
    "            context = context[1:] + [ix]\n",
    "    X = torch.tensor(X)\n",
    "    Y = torch.tensor(Y)\n",
    "    print(X.shape, Y.shape)\n",
    "    return X, Y\n",
    "\n",
    "import random\n",
    "random.seed(42)\n",
    "random.shuffle(words)\n",
    "n1 = int(0.8*len(words))\n",
    "n2 = int(0.9*len(words))\n",
    "\n",
    "Xtr, Ytr = build_dataset(words[:n1])\n",
    "Xdev, Ydev = build_dataset(words[n1:n2])\n",
    "Xte, Yte = build_dataset(words[n2:])"
   ]
  },
  {
   "cell_type": "code",
   "execution_count": 74,
   "id": "05f0da20-d45b-40c3-bea9-cc9a4c5f1377",
   "metadata": {
    "tags": []
   },
   "outputs": [],
   "source": [
    "g = torch.Generator().manual_seed(2147483647)\n",
    "C = torch.randn((27, 10), generator=g) #embeddings\n",
    "W1 = torch.randn((30, 200), generator=g)\n",
    "b1 = torch.randn(200, generator=g)\n",
    "W2 = torch.randn((200, 27), generator=g)\n",
    "b2 = torch.randn(27, generator=g)\n",
    "parameters = [C, W1, b1, W2, b2]"
   ]
  },
  {
   "cell_type": "code",
   "execution_count": 75,
   "id": "2e40e99a-d8e1-42d0-8091-6fe607faff3f",
   "metadata": {
    "tags": []
   },
   "outputs": [
    {
     "data": {
      "text/plain": [
       "11897"
      ]
     },
     "execution_count": 75,
     "metadata": {},
     "output_type": "execute_result"
    }
   ],
   "source": [
    "sum(p.nelement() for p in parameters)"
   ]
  },
  {
   "cell_type": "code",
   "execution_count": 76,
   "id": "91a40743-ec6b-4c22-955f-36a18bb59667",
   "metadata": {
    "tags": []
   },
   "outputs": [],
   "source": [
    "for p in parameters:\n",
    "    p.requires_grad = True"
   ]
  },
  {
   "cell_type": "code",
   "execution_count": null,
   "id": "6aa394a9-ce01-42f9-912a-825941220d0d",
   "metadata": {
    "tags": []
   },
   "outputs": [],
   "source": [
    "lre = torch.linspace(-3, 0, 1000)\n",
    "lrs = 10**lre"
   ]
  },
  {
   "cell_type": "code",
   "execution_count": null,
   "id": "8b1c4506-a24d-46c8-9c89-62b11c3a8e0d",
   "metadata": {
    "tags": []
   },
   "outputs": [],
   "source": [
    "plt.plot(lri, lossi)"
   ]
  },
  {
   "cell_type": "code",
   "execution_count": 85,
   "id": "a8a8c8fe-8d9c-4a95-81c6-656190af5dac",
   "metadata": {
    "tags": []
   },
   "outputs": [],
   "source": [
    "# lri = []\n",
    "# lossi = []\n",
    "# stepi = []\n",
    "for i in range(100000):\n",
    "    \n",
    "    # minibatch construct\n",
    "    ix = torch.randint(0, Xtr.shape[0], (32,))\n",
    "    # forward pass \n",
    "    emb = C[Xtr[ix]] # 32, 3, 2\n",
    "    h = torch.tanh(emb.view(-1, 30) @ W1 + b1)\n",
    "    logits = h @ W2 + b2\n",
    "    loss = F.cross_entropy(logits, Ytr[ix]) #we can avoid creating intermediate tensors\n",
    "    #print(loss.item())\n",
    "    #backward pass\n",
    "    for p in parameters:\n",
    "        p.grad = None\n",
    "    loss.backward()\n",
    "\n",
    "    #update\n",
    "    #lr = lrs[i]\n",
    "    lr = 0.005\n",
    "    for p in parameters:\n",
    "        p.data += -lr * p.grad\n",
    "    \n",
    "    #track stats for lr\n",
    "    # lri.append(lre[i])\n",
    "    # stepi.append(i)\n",
    "    # lossi.append(loss.item())\n",
    "# print(loss.item()) "
   ]
  },
  {
   "cell_type": "code",
   "execution_count": 59,
   "id": "772d64f8-02a4-4be9-983b-f90131ae9f25",
   "metadata": {
    "tags": []
   },
   "outputs": [
    {
     "name": "stdout",
     "output_type": "stream",
     "text": [
      "2.491687536239624\n"
     ]
    }
   ],
   "source": [
    "print(loss.item())"
   ]
  },
  {
   "cell_type": "code",
   "execution_count": 86,
   "id": "049ed6dd-ed74-4ab9-ac82-0553f5465cff",
   "metadata": {
    "tags": []
   },
   "outputs": [
    {
     "data": {
      "text/plain": [
       "tensor(2.1720, grad_fn=<NllLossBackward0>)"
      ]
     },
     "execution_count": 86,
     "metadata": {},
     "output_type": "execute_result"
    }
   ],
   "source": [
    "emb = C[Xtr]\n",
    "h = torch.tanh(emb.view(-1, 30) @ W1 + b1)\n",
    "logits = h @ W2 + b2\n",
    "loss = F.cross_entropy(logits, Ytr)\n",
    "loss"
   ]
  },
  {
   "cell_type": "code",
   "execution_count": 87,
   "id": "f55d5f60-fd78-4115-a39e-d27d5f54e152",
   "metadata": {
    "tags": []
   },
   "outputs": [
    {
     "data": {
      "text/plain": [
       "tensor(2.2004, grad_fn=<NllLossBackward0>)"
      ]
     },
     "execution_count": 87,
     "metadata": {},
     "output_type": "execute_result"
    }
   ],
   "source": [
    "emb = C[Xdev]\n",
    "h = torch.tanh(emb.view(-1, 30) @ W1 + b1)\n",
    "logits = h @ W2 + b2\n",
    "loss = F.cross_entropy(logits, Ydev)\n",
    "loss"
   ]
  },
  {
   "cell_type": "markdown",
   "id": "29b12f9a-4693-4f92-a6a8-87b10845ae31",
   "metadata": {},
   "source": [
    "Since loss is similar for dev and tr set, we are not overfitting. In fact we are underfitting which means that we can expect improvements by expanding the model"
   ]
  },
  {
   "cell_type": "markdown",
   "id": "d535f862-f768-44b0-a769-677493d842e1",
   "metadata": {},
   "source": [
    "The reason we are not getting 0 or close to zero is because\n",
    "predicting the first letter is not straight forward in general. You can't \n",
    "really find a pattern with that"
   ]
  },
  {
   "cell_type": "markdown",
   "id": "cbfd0509-5969-41fb-898c-5fc72fe7b991",
   "metadata": {},
   "source": [
    "# How to determine a reasonable learning rate?\n",
    "If the loss is barely decreasing after 100 tries then its too small \\\n",
    "If the loss is not changing or varying too much then its way too large \\\n",
    "We can use torch.linspace for a range ex. between 0.001 and 1 \n",
    "for candidate learning rates"
   ]
  },
  {
   "cell_type": "markdown",
   "id": "b12b1d70-963d-41aa-986e-e921f31deb49",
   "metadata": {
    "tags": []
   },
   "source": [
    "Training split, validation split, test split for more accurate losses \\\n",
    "80%, 10%, 10%"
   ]
  },
  {
   "cell_type": "code",
   "execution_count": 73,
   "id": "70577309-adad-4333-83a9-fe5d9cf7f411",
   "metadata": {
    "tags": []
   },
   "outputs": [
    {
     "data": {
      "image/png": "[encoded data removed]",
      "text/plain": [
       "<Figure size 800x800 with 1 Axes>"
      ]
     },
     "metadata": {},
     "output_type": "display_data"
    }
   ],
   "source": [
    "plt.figure(figsize=(8,8))\n",
    "plt.scatter(C[:,0].data, C[:,1].data, s=200)\n",
    "for i in range(C.shape[0]):\n",
    "    plt.text(C[i,0].item(), C[i,1].item(), itos[i], ha=\"center\", va=\"center\", color='white')\n",
    "plt.grid('minor')"
   ]
  },
  {
   "cell_type": "markdown",
   "id": "b4684015-7016-45a3-ba7a-ecec2a4d5d0e",
   "metadata": {},
   "source": [
    "# Hyperparameters of this model:\n",
    "- context\n",
    "- embedding dimensionality\n",
    "- how long the loop runs\n",
    "- learning rate\n",
    "- neurons per layer\n",
    "- layers"
   ]
  },
  {
   "cell_type": "code",
   "execution_count": 89,
   "id": "f0294167-7dcb-40e8-98ea-d78f62eb7769",
   "metadata": {
    "tags": []
   },
   "outputs": [
    {
     "name": "stdout",
     "output_type": "stream",
     "text": [
      "reenai.\n",
      "rain.\n",
      "cruzra.\n",
      "nearyan.\n",
      "nikeriez.\n",
      "zaisrain.\n",
      "ell.\n",
      "fari.\n",
      "evion.\n",
      "malaxibray.\n",
      "isnevur.\n",
      "ezie.\n",
      "jiquine.\n",
      "jed.\n",
      "les.\n",
      "lol.\n",
      "kame.\n",
      "srija.\n",
      "marshe.\n",
      "mola.\n"
     ]
    }
   ],
   "source": [
    "g = torch.Generator().manual_seed (2147483647 + 11)\n",
    "for _ in range(20):\n",
    "    out = []\n",
    "    context = [0] * block_size # initialize with all ...\n",
    "    while True:\n",
    "        emb = C[torch.tensor([context])] # (1,block_size,d)\n",
    "        h = torch.tanh(emb.view(1, -1) @ W1 + b1)\n",
    "        logits = h @ W2 + b2\n",
    "        probs = F.softmax(logits, dim=1)\n",
    "        ix = torch.multinomial(probs, num_samples=1, generator=g).item()\n",
    "        context = context[1:] + [ix]\n",
    "        out.append(ix)\n",
    "        if ix == 0:\n",
    "            break\n",
    "    print(''.join(itos[i] for i in out))"
   ]
  },
  {
   "cell_type": "code",
   "execution_count": null,
   "id": "0b69c83c-0ffe-4168-bf05-2cb2806fde59",
   "metadata": {},
   "outputs": [],
   "source": []
  }
 ],
 "metadata": {
  "kernelspec": {
   "display_name": "Python 3 (ipykernel)",
   "language": "python",
   "name": "python3"
  },
  "language_info": {
   "codemirror_mode": {
    "name": "ipython",
    "version": 3
   },
   "file_extension": ".py",
   "mimetype": "text/x-python",
   "name": "python",
   "nbconvert_exporter": "python",
   "pygments_lexer": "ipython3",
   "version": "3.11.7"
  }
 },
 "nbformat": 4,
 "nbformat_minor": 5
}
