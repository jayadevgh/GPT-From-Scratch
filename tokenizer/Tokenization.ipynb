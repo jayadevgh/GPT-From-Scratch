{
 "cells": [
  {
   "cell_type": "markdown",
   "id": "39ffd2b1-8d6e-45b4-9fef-18ffb0351e45",
   "metadata": {},
   "source": [
    "## __TOKENIZATION__\n",
    "\n",
    "Tokenization is at the heart of much weirdness of LLMs. Do not brush it off.\n",
    "- Why can't LLM spell words? __Tokenization__.\n",
    "- Why can't LLM do super simple string processing tasks like reversing a string? __Tokenization__.\n",
    "- Why is LLM worse at non-English languages (e.g. Japanese)? __Tokenization__.\n",
    "- Why is LLM bad at simple arithmetic? __Tokenization__.\n",
    "- Why did GPT-2 have more than necessary trouble coding in Python? __Tokenization__.\n",
    "- Why did my LLM abruptly halt when it sees the string \"<|endoftext|>*? __Tokenization__.\n",
    "- What is this weird waring I get about a \"trailing whitespace\"? __Tokenization__.\n",
    "- Why the LLM break it I ask it about \"SolidGoldMagikarp\"? __Tokenization__.\n",
    "- Why should I prefer to use VAML over JSON with LLMs? __Tokenization__.\n",
    "- Why is LLM not actually end-to-end language modeling? __Tokenization__.\n",
    "- What is the real root of suffering? __Tokenization__."
   ]
  },
  {
   "cell_type": "markdown",
   "id": "e9001d5c-f497-4fbd-b68e-e4c6448785d5",
   "metadata": {},
   "source": [
    "look at tiktokenizer.vercel.app"
   ]
  },
  {
   "cell_type": "markdown",
   "id": "4d18da72-6a20-490d-b7c6-1bb7caaa9b3a",
   "metadata": {},
   "source": [
    "#### Here's the overarching plan (take strings and feed them into language models):\n",
    "1. Tokenize strings into some integers in some fixed vocabulary\n",
    "2. Use those integers to make a lookup into a lookup table as inputs\n",
    "3. Feed those vectors into the transformer as input\n",
    "\n",
    "This won't be simple as we want to support multiple lanugages (Korean, etc.) and we want to support special characters (emojis, etc.)"
   ]
  },
  {
   "cell_type": "markdown",
   "id": "7250004a-afcf-4925-b7bd-d8d7aa2470bd",
   "metadata": {},
   "source": [
    "What is Unicode\n",
    "\n",
    "a mapping of around 150k characters\n",
    "\n",
    "can be used using ord(x) for a character x in a string\n",
    "\n",
    "Disadvantages\n",
    "- too many inputs (150k)\n",
    "- a constantly updating input (unstable)"
   ]
  },
  {
   "cell_type": "code",
   "execution_count": 1,
   "id": "088aea90-3f86-4011-bb80-cd619ff76524",
   "metadata": {
    "tags": []
   },
   "outputs": [
    {
     "data": {
      "text/plain": [
       "[50504,\n",
       " 45397,\n",
       " 54616,\n",
       " 49464,\n",
       " 50836,\n",
       " 32,\n",
       " 128075,\n",
       " 32,\n",
       " 40,\n",
       " 104,\n",
       " 101,\n",
       " 108,\n",
       " 108,\n",
       " 111,\n",
       " 32,\n",
       " 105,\n",
       " 110,\n",
       " 32,\n",
       " 75,\n",
       " 111,\n",
       " 114,\n",
       " 101,\n",
       " 97,\n",
       " 110,\n",
       " 33,\n",
       " 41]"
      ]
     },
     "execution_count": 1,
     "metadata": {},
     "output_type": "execute_result"
    }
   ],
   "source": [
    "[ord(x) for x in \"안녕하세요 👋 (hello in Korean!)\"]"
   ]
  },
  {
   "cell_type": "markdown",
   "id": "25bd5f25-02eb-4b24-ac1f-f3c86dcf1655",
   "metadata": {},
   "source": [
    "Unicode defines three types of Encodings. UTF-8, UTF-16, UTF-32\n",
    "\n",
    "UTF-8 is the most common type of encoding, translating characters by using 1 to 4 bytes and accounts for 98% of web pages. Also backwards compatible to ASCII text."
   ]
  },
  {
   "cell_type": "code",
   "execution_count": 2,
   "id": "8bf26b11-0781-4dae-a61e-a331a23d06a3",
   "metadata": {
    "tags": []
   },
   "outputs": [
    {
     "data": {
      "text/plain": [
       "[236,\n",
       " 149,\n",
       " 136,\n",
       " 235,\n",
       " 133,\n",
       " 149,\n",
       " 237,\n",
       " 149,\n",
       " 152,\n",
       " 236,\n",
       " 132,\n",
       " 184,\n",
       " 236,\n",
       " 154,\n",
       " 148,\n",
       " 32,\n",
       " 240,\n",
       " 159,\n",
       " 145,\n",
       " 139,\n",
       " 32,\n",
       " 40,\n",
       " 104,\n",
       " 101,\n",
       " 108,\n",
       " 108,\n",
       " 111,\n",
       " 32,\n",
       " 105,\n",
       " 110,\n",
       " 32,\n",
       " 75,\n",
       " 111,\n",
       " 114,\n",
       " 101,\n",
       " 97,\n",
       " 110,\n",
       " 33,\n",
       " 41]"
      ]
     },
     "execution_count": 2,
     "metadata": {},
     "output_type": "execute_result"
    }
   ],
   "source": [
    "list(\"안녕하세요 👋 (hello in Korean!)\".encode(\"utf-8\")) # returns in bytes wihtout list"
   ]
  },
  {
   "cell_type": "markdown",
   "id": "49a78885-bdb6-4e21-8ad4-4e2f018c1d4a",
   "metadata": {},
   "source": [
    "#### We don't want to use raw utf 8 encoding, because \n",
    "1. **UTF-8 bytes by itself only ranges from 0 to 255. When representing certain characters, sequence length can start exploding.**<br>\n",
    "    - For example, when representing a korean characters we may use up to 3 bytes just for a single character. \n",
    "    - This could make a whole word explode to 10-20 bytes\n",
    "    - Text sequences become an even larger token sequence\n",
    "2. **Long sequences are a big problem because we cannot effectively take advantage of the context length**\n",
    "    - When we optimize our model, we will reach an ideal maximum context length for our transformer. \n",
    "    - But if each word takes 3-10 tokens instead of 1-2, then we cannot truly use as much context (even though we are taking in the same number of tokens)\n",
    "    - In byte level encoding we might only get like 300 words per 2k tokens vs 1k words in a better tokenizer\n",
    "    - Model learns and performs worse since it can't \"see\" as much text\n",
    "3. **If we want to use same context, attention is too expensive since sequences are so long**\n",
    "4. **Solution: Byte Pair Encoding**"
   ]
  },
  {
   "cell_type": "markdown",
   "id": "f46781e0-7d7e-4371-a42a-5973f3416b20",
   "metadata": {},
   "source": [
    "Byte pair encoding: An algorithm that finds the most recurring pair of two tokens and replaces that with a singular token\n",
    "\n",
    "Ex:\n",
    "aaabdaaabac\n",
    "\n",
    "Z = aa\n",
    "\n",
    "ZabdZabac\n",
    "\n",
    "Y = ab\n",
    "\n",
    "ZYdZYac\n",
    "\n",
    "X = ZY\n",
    "\n",
    "XdXac\n",
    "\n",
    "^ this cannot be compressed further by byte pair encoding"
   ]
  },
  {
   "cell_type": "code",
   "execution_count": 3,
   "id": "01647115-8357-4f30-8a4a-7c90fe37d5a2",
   "metadata": {
    "tags": []
   },
   "outputs": [
    {
     "name": "stdout",
     "output_type": "stream",
     "text": [
      "---\n",
      "Ｕｎｉｃｏｄｅ! 🅤🅝🅘🅒🅞🅓🅔‽ 🇺‌🇳‌🇮‌🇨‌🇴‌🇩‌🇪! 😄 The very name strikes fear and awe into the hearts of programmers worldwide. We all know we ought to “support Unicode” in our software (whatever that means—like using wchar_t for all the strings, right?). But Unicode can be abstruse, and diving into the thousand-page Unicode Standard plus its dozens of supplementary annexes, reports, and notes can be more than a little intimidating. I don’t blame programmers for still finding the whole thing mysterious, even 30 years after Unicode’s inception. \n",
      "length:  533\n",
      "---\n",
      "[239, 188, 181, 239, 189, 142, 239, 189, 137, 239, 189, 131, 239, 189, 143, 239, 189, 132, 239, 189, 133, 33, 32, 240, 159, 133, 164, 240, 159, 133, 157, 240, 159, 133, 152, 240, 159, 133, 146, 240, 159, 133, 158, 240, 159, 133, 147, 240, 159, 133, 148, 226, 128, 189, 32, 240, 159, 135, 186, 226, 128, 140, 240, 159, 135, 179, 226, 128, 140, 240, 159, 135, 174, 226, 128, 140, 240, 159, 135, 168, 226, 128, 140, 240, 159, 135, 180, 226, 128, 140, 240, 159, 135, 169, 226, 128, 140, 240, 159, 135, 170, 33, 32, 240, 159, 152, 132, 32, 84, 104, 101, 32, 118, 101, 114, 121, 32, 110, 97, 109, 101, 32, 115, 116, 114, 105, 107, 101, 115, 32, 102, 101, 97, 114, 32, 97, 110, 100, 32, 97, 119, 101, 32, 105, 110, 116, 111, 32, 116, 104, 101, 32, 104, 101, 97, 114, 116, 115, 32, 111, 102, 32, 112, 114, 111, 103, 114, 97, 109, 109, 101, 114, 115, 32, 119, 111, 114, 108, 100, 119, 105, 100, 101, 46, 32, 87, 101, 32, 97, 108, 108, 32, 107, 110, 111, 119, 32, 119, 101, 32, 111, 117, 103, 104, 116, 32, 116, 111, 32, 226, 128, 156, 115, 117, 112, 112, 111, 114, 116, 32, 85, 110, 105, 99, 111, 100, 101, 226, 128, 157, 32, 105, 110, 32, 111, 117, 114, 32, 115, 111, 102, 116, 119, 97, 114, 101, 32, 40, 119, 104, 97, 116, 101, 118, 101, 114, 32, 116, 104, 97, 116, 32, 109, 101, 97, 110, 115, 226, 128, 148, 108, 105, 107, 101, 32, 117, 115, 105, 110, 103, 32, 119, 99, 104, 97, 114, 95, 116, 32, 102, 111, 114, 32, 97, 108, 108, 32, 116, 104, 101, 32, 115, 116, 114, 105, 110, 103, 115, 44, 32, 114, 105, 103, 104, 116, 63, 41, 46, 32, 66, 117, 116, 32, 85, 110, 105, 99, 111, 100, 101, 32, 99, 97, 110, 32, 98, 101, 32, 97, 98, 115, 116, 114, 117, 115, 101, 44, 32, 97, 110, 100, 32, 100, 105, 118, 105, 110, 103, 32, 105, 110, 116, 111, 32, 116, 104, 101, 32, 116, 104, 111, 117, 115, 97, 110, 100, 45, 112, 97, 103, 101, 32, 85, 110, 105, 99, 111, 100, 101, 32, 83, 116, 97, 110, 100, 97, 114, 100, 32, 112, 108, 117, 115, 32, 105, 116, 115, 32, 100, 111, 122, 101, 110, 115, 32, 111, 102, 32, 115, 117, 112, 112, 108, 101, 109, 101, 110, 116, 97, 114, 121, 32, 97, 110, 110, 101, 120, 101, 115, 44, 32, 114, 101, 112, 111, 114, 116, 115, 44, 32, 97, 110, 100, 32, 110, 111, 116, 101, 115, 32, 99, 97, 110, 32, 98, 101, 32, 109, 111, 114, 101, 32, 116, 104, 97, 110, 32, 97, 32, 108, 105, 116, 116, 108, 101, 32, 105, 110, 116, 105, 109, 105, 100, 97, 116, 105, 110, 103, 46, 32, 73, 32, 100, 111, 110, 226, 128, 153, 116, 32, 98, 108, 97, 109, 101, 32, 112, 114, 111, 103, 114, 97, 109, 109, 101, 114, 115, 32, 102, 111, 114, 32, 115, 116, 105, 108, 108, 32, 102, 105, 110, 100, 105, 110, 103, 32, 116, 104, 101, 32, 119, 104, 111, 108, 101, 32, 116, 104, 105, 110, 103, 32, 109, 121, 115, 116, 101, 114, 105, 111, 117, 115, 44, 32, 101, 118, 101, 110, 32, 51, 48, 32, 121, 101, 97, 114, 115, 32, 97, 102, 116, 101, 114, 32, 85, 110, 105, 99, 111, 100, 101, 226, 128, 153, 115, 32, 105, 110, 99, 101, 112, 116, 105, 111, 110, 46] \n",
      "length:  616\n"
     ]
    }
   ],
   "source": [
    "text = \"Ｕｎｉｃｏｄｅ! 🅤🅝🅘🅒🅞🅓🅔‽ 🇺‌🇳‌🇮‌🇨‌🇴‌🇩‌🇪! 😄 The very name strikes fear and awe into the hearts of programmers worldwide. We all know we ought to “support Unicode” in our software (whatever that means—like using wchar_t for all the strings, right?). But Unicode can be abstruse, and diving into the thousand-page Unicode Standard plus its dozens of supplementary annexes, reports, and notes can be more than a little intimidating. I don’t blame programmers for still finding the whole thing mysterious, even 30 years after Unicode’s inception.\"\n",
    "\n",
    "tokens = text.encode(\"utf-8\") # raw bytes\n",
    "tokens = list(map(int, tokens)) # convert from bytes to list of ints from 0 - 255 (the map part is actually redundant)\n",
    "\n",
    "print(\"---\")\n",
    "print(text, \"\\nlength: \", len(text))\n",
    "print(\"---\")\n",
    "print(tokens, \"\\nlength: \", len(tokens))"
   ]
  },
  {
   "cell_type": "markdown",
   "id": "adb0f1b6-5284-4c61-896b-24c6c5c995f9",
   "metadata": {},
   "source": [
    "Pure utf coding brought 533 -> 616"
   ]
  },
  {
   "cell_type": "code",
   "execution_count": 4,
   "id": "747db506-93c8-4592-a2c8-83107249ecb9",
   "metadata": {
    "tags": []
   },
   "outputs": [
    {
     "name": "stdout",
     "output_type": "stream",
     "text": [
      "[(20, (101, 32)), (15, (240, 159)), (12, (226, 128)), (12, (105, 110)), (10, (115, 32)), (10, (97, 110)), (10, (32, 97)), (9, (32, 116)), (8, (116, 104)), (7, (159, 135)), (7, (159, 133)), (7, (97, 114)), (6, (239, 189)), (6, (140, 240)), (6, (128, 140)), (6, (116, 32)), (6, (114, 32)), (6, (111, 114)), (6, (110, 103)), (6, (110, 100)), (6, (109, 101)), (6, (104, 101)), (6, (101, 114)), (6, (32, 105)), (5, (117, 115)), (5, (115, 116)), (5, (110, 32)), (5, (100, 101)), (5, (44, 32)), (5, (32, 115)), (4, (116, 105)), (4, (116, 101)), (4, (115, 44)), (4, (114, 105)), (4, (111, 117)), (4, (111, 100)), (4, (110, 116)), (4, (110, 105)), (4, (105, 99)), (4, (104, 97)), (4, (103, 32)), (4, (101, 97)), (4, (100, 32)), (4, (99, 111)), (4, (97, 109)), (4, (85, 110)), (4, (32, 119)), (4, (32, 111)), (4, (32, 102)), (4, (32, 85)), (3, (118, 101)), (3, (116, 115)), (3, (116, 114)), (3, (116, 111)), (3, (114, 116)), (3, (114, 115)), (3, (114, 101)), (3, (111, 102)), (3, (111, 32)), (3, (108, 108)), (3, (108, 101)), (3, (108, 32)), (3, (101, 115)), (3, (101, 110)), (3, (97, 116)), (3, (46, 32)), (3, (32, 240)), (3, (32, 112)), (3, (32, 109)), (3, (32, 100)), (3, (32, 98)), (2, (128, 153)), (2, (121, 32)), (2, (119, 104)), (2, (119, 101)), (2, (117, 112)), (2, (116, 97)), (2, (115, 117)), (2, (114, 121)), (2, (114, 111)), (2, (114, 97)), (2, (112, 114)), (2, (112, 112)), (2, (112, 111)), (2, (112, 108)), (2, (111, 110)), (2, (111, 103)), (2, (110, 115)), (2, (110, 111)), (2, (109, 109)), (2, (108, 105)), (2, (107, 101)), (2, (105, 116)), (2, (105, 111)), (2, (105, 107)), (2, (105, 100)), (2, (104, 116)), (2, (104, 111)), (2, (103, 114)), (2, (103, 104)), (2, (102, 116)), (2, (102, 111)), (2, (102, 32)), (2, (101, 226)), (2, (101, 118)), (2, (101, 112)), (2, (100, 111)), (2, (100, 105)), (2, (100, 97)), (2, (99, 97)), (2, (98, 101)), (2, (97, 108)), (2, (33, 32)), (2, (32, 114)), (2, (32, 110)), (2, (32, 99)), (1, (239, 188)), (1, (189, 143)), (1, (189, 142)), (1, (189, 137)), (1, (189, 133)), (1, (189, 132)), (1, (189, 131)), (1, (189, 32)), (1, (188, 181)), (1, (186, 226)), (1, (181, 239)), (1, (180, 226)), (1, (179, 226)), (1, (174, 226)), (1, (170, 33)), (1, (169, 226)), (1, (168, 226)), (1, (164, 240)), (1, (159, 152)), (1, (158, 240)), (1, (157, 240)), (1, (157, 32)), (1, (156, 115)), (1, (153, 116)), (1, (153, 115)), (1, (152, 240)), (1, (152, 132)), (1, (148, 226)), (1, (148, 108)), (1, (147, 240)), (1, (146, 240)), (1, (143, 239)), (1, (142, 239)), (1, (137, 239)), (1, (135, 186)), (1, (135, 180)), (1, (135, 179)), (1, (135, 174)), (1, (135, 170)), (1, (135, 169)), (1, (135, 168)), (1, (133, 164)), (1, (133, 158)), (1, (133, 157)), (1, (133, 152)), (1, (133, 148)), (1, (133, 147)), (1, (133, 146)), (1, (133, 33)), (1, (132, 239)), (1, (132, 32)), (1, (131, 239)), (1, (128, 189)), (1, (128, 157)), (1, (128, 156)), (1, (128, 148)), (1, (122, 101)), (1, (121, 115)), (1, (121, 101)), (1, (120, 101)), (1, (119, 111)), (1, (119, 105)), (1, (119, 99)), (1, (119, 97)), (1, (119, 32)), (1, (118, 105)), (1, (117, 116)), (1, (117, 114)), (1, (117, 103)), (1, (116, 119)), (1, (116, 116)), (1, (116, 108)), (1, (116, 63)), (1, (115, 226)), (1, (115, 111)), (1, (115, 105)), (1, (115, 101)), (1, (115, 97)), (1, (114, 117)), (1, (114, 108)), (1, (114, 100)), (1, (114, 95)), (1, (112, 116)), (1, (112, 97)), (1, (111, 122)), (1, (111, 119)), (1, (111, 116)), (1, (111, 108)), (1, (110, 226)), (1, (110, 110)), (1, (110, 101)), (1, (110, 99)), (1, (110, 97)), (1, (110, 46)), (1, (109, 121)), (1, (109, 111)), (1, (109, 105)), (1, (108, 117)), (1, (108, 100)), (1, (108, 97)), (1, (107, 110)), (1, (105, 118)), (1, (105, 109)), (1, (105, 108)), (1, (105, 103)), (1, (104, 105)), (1, (103, 115)), (1, (103, 101)), (1, (103, 46)), (1, (102, 105)), (1, (102, 101)), (1, (101, 120)), (1, (101, 109)), (1, (101, 46)), (1, (101, 44)), (1, (100, 119)), (1, (100, 45)), (1, (99, 104)), (1, (99, 101)), (1, (98, 115)), (1, (98, 108)), (1, (97, 119)), (1, (97, 103)), (1, (97, 102)), (1, (97, 98)), (1, (97, 32)), (1, (95, 116)), (1, (87, 101)), (1, (84, 104)), (1, (83, 116)), (1, (73, 32)), (1, (66, 117)), (1, (63, 41)), (1, (51, 48)), (1, (48, 32)), (1, (45, 112)), (1, (41, 46)), (1, (40, 119)), (1, (32, 226)), (1, (32, 121)), (1, (32, 118)), (1, (32, 117)), (1, (32, 108)), (1, (32, 107)), (1, (32, 104)), (1, (32, 101)), (1, (32, 87)), (1, (32, 84)), (1, (32, 83)), (1, (32, 73)), (1, (32, 66)), (1, (32, 51)), (1, (32, 40))]\n"
     ]
    }
   ],
   "source": [
    "def max_pairs(tokens):\n",
    "    counts = {}\n",
    "    for pair in zip(tokens, tokens[1:]):\n",
    "        counts[pair] = counts.get(pair, 0) + 1\n",
    "    return counts\n",
    "\n",
    "counts = max_pairs(tokens)\n",
    "res = sorted(((v, k) for k, v in counts.items()), reverse=True)\n",
    "print(res)\n"
   ]
  },
  {
   "cell_type": "code",
   "execution_count": 5,
   "id": "892470eb-d50d-4f4d-9fb8-ae2450a96548",
   "metadata": {
    "tags": []
   },
   "outputs": [
    {
     "data": {
      "text/plain": [
       "(101, 32)"
      ]
     },
     "execution_count": 5,
     "metadata": {},
     "output_type": "execute_result"
    }
   ],
   "source": [
    "top_pair = max(counts, key=counts.get)\n",
    "top_pair"
   ]
  },
  {
   "cell_type": "code",
   "execution_count": 6,
   "id": "82ea8840-24d6-48f1-acbd-a7602c4bff57",
   "metadata": {
    "tags": []
   },
   "outputs": [
    {
     "data": {
      "text/plain": [
       "[256, 3, 256, 256, 3, 4, 2, 3]"
      ]
     },
     "execution_count": 6,
     "metadata": {},
     "output_type": "execute_result"
    }
   ],
   "source": [
    "def merge(tokens, pair, num):\n",
    "    newtokens = []\n",
    "    i = 0\n",
    "    n = len(tokens)\n",
    "    while i < n:\n",
    "        if i + 1 < n and tokens[i] == pair[0] and tokens[i+1] == pair[1]:\n",
    "            newtokens.append(num)\n",
    "            i += 2\n",
    "        else:\n",
    "            newtokens.append(tokens[i])\n",
    "            i += 1\n",
    "    return newtokens\n",
    "\n",
    "#test\n",
    "new = merge([1, 2, 3, 1, 2, 1, 2, 3, 4, 2, 3], (1, 2), 256)\n",
    "new"
   ]
  },
  {
   "cell_type": "code",
   "execution_count": 7,
   "id": "554b3e3e-6efa-4496-b3f6-3dc0906f5a3f",
   "metadata": {
    "tags": []
   },
   "outputs": [
    {
     "name": "stdout",
     "output_type": "stream",
     "text": [
      "[239, 188, 181, 266, 142, 266, 137, 266, 131, 266, 143, 266, 132, 266, 133, 296, 263, 164, 263, 157, 263, 152, 263, 146, 263, 158, 263, 147, 263, 148, 258, 189, 32, 264, 186, 268, 179, 268, 174, 268, 168, 268, 180, 268, 169, 268, 170, 296, 257, 152, 132, 32, 84, 104, 256, 297, 298, 110, 299, 286, 300, 301, 102, 287, 32, 288, 97, 302, 304, 104, 287, 305, 306, 314, 119, 270, 108, 100, 119, 315, 101, 291, 87, 316, 317, 107, 318, 119, 32, 302, 279, 319, 271, 116, 111, 32, 258, 156, 322, 270, 323, 324, 157, 32, 259, 32, 279, 114, 32, 115, 290, 116, 119, 265, 256, 40, 325, 326, 101, 297, 275, 97, 271, 109, 101, 261, 115, 258, 148, 108, 300, 256, 327, 293, 119, 99, 104, 265, 95, 271, 329, 97, 292, 278, 286, 272, 330, 105, 319, 116, 63, 41, 291, 66, 117, 323, 256, 332, 316, 98, 286, 327, 101, 276, 288, 100, 105, 118, 293, 304, 262, 279, 115, 274, 45, 112, 97, 103, 256, 284, 256, 83, 116, 274, 265, 100, 32, 112, 108, 117, 260, 105, 305, 333, 122, 295, 260, 306, 322, 108, 101, 109, 295, 116, 265, 298, 261, 110, 101, 120, 101, 330, 334, 270, 116, 285, 288, 318, 116, 301, 332, 256, 109, 270, 335, 294, 97, 32, 108, 105, 116, 116, 108, 256, 289, 105, 109, 315, 326, 272, 291, 73, 32, 333, 110, 258, 153, 271, 98, 108, 299, 314, 329, 273, 105, 317, 102, 259, 100, 272, 278, 325, 111, 108, 335, 293, 109, 121, 273, 269, 105, 279, 285, 101, 118, 295, 32, 51, 48, 32, 121, 287, 260, 97, 102, 116, 269, 32, 284, 324, 153, 260, 259, 99, 334, 116, 105, 111, 110, 46] \n",
      "length: 300\n",
      "335\n"
     ]
    }
   ],
   "source": [
    "def bpe(tokens, num=256):\n",
    "    bpetokens = tokens\n",
    "    while True:\n",
    "        counts = max_pairs(bpetokens)\n",
    "        if max(counts.values()) < 2: \n",
    "            break\n",
    "        max_pair = max(counts, key=counts.get)\n",
    "        \n",
    "        bpetokens = merge(bpetokens, max_pair, num)\n",
    "        num += 1\n",
    "    return bpetokens\n",
    "bpetokens = bpe(tokens)\n",
    "print(bpetokens, \"\\nlength:\", len(bpetokens))\n",
    "print(max(bpetokens))"
   ]
  },
  {
   "cell_type": "markdown",
   "id": "76204362-e050-497b-85e2-24ece1b436c9",
   "metadata": {},
   "source": [
    "This makes a nice in between. Instead of a 256 vocab size, we are using a 335 vocab size. But at the same time, we were able to shrink the length of the sequence from 553 -> 300 and shrink our token array from 616 -> 300"
   ]
  },
  {
   "cell_type": "code",
   "execution_count": 8,
   "id": "088ba62b-936d-438e-8832-9ba6d096f560",
   "metadata": {
    "tags": []
   },
   "outputs": [
    {
     "name": "stdout",
     "output_type": "stream",
     "text": [
      "length: 23110\n",
      "length: 24372\n",
      "length: 5362\n",
      "max token: 2133\n"
     ]
    }
   ],
   "source": [
    "# longer text\n",
    "text = \"\"\"Ｕｎｉｃｏｄｅ! 🅤🅝🅘🅒🅞🅓🅔‽ 🇺‌🇳‌🇮‌🇨‌🇴‌🇩‌🇪! 😄 The very name strikes fear and awe into the hearts of programmers worldwide. We all know we ought to “support Unicode” in our software (whatever that means—like using wchar_t for all the strings, right?). But Unicode can be abstruse, and diving into the thousand-page Unicode Standard plus its dozens of supplementary annexes, reports, and notes can be more than a little intimidating. I don’t blame programmers for still finding the whole thing mysterious, even 30 years after Unicode’s inception.A few months ago, I got interested in Unicode and decided to spend some time learning more about it in detail. In this article, I’ll give an introduction to it from a programmer’s point of view.I’m going to focus on the character set and what’s involved in working with strings and files of Unicode text. However, in this article I’m not going to talk about fonts, text layout/shaping/rendering, or localization in detail—those are separate issues, beyond my scope (and knowledge) here.Diversity and Inherent ComplexityThe Unicode CodespaceCodespace AllocationScriptsUsage FrequencyEncodingsUTF-8UTF-16Combining MarksCanonical EquivalenceNormalization FormsGrapheme ClustersAnd More…Diversity and Inherent ComplexityAs soon as you start to study Unicode, it becomes clear that it represents a large jump in complexity over character sets like ASCII that you may be more familiar with. It’s not just that Unicode contains a much larger number of characters, although that’s part of it. Unicode also has a great deal of internal structure, features, and special cases, making it much more than what one might expect a mere “character set” to be. We’ll see some of that later in this article.When confronting all this complexity, especially as an engineer, it’s hard not to find oneself asking, “Why do we need all this? Is this really necessary? Couldn’t it be simplified?”However, Unicode aims to faithfully represent the entire world’s writing systems. The Unicode Consortium’s stated goal is “enabling people around the world to use computers in any language”. And as you might imagine, the diversity of written languages is immense! To date, Unicode supports 135 different scripts, covering some 1100 languages, and there’s still a long tail of over 100 unsupported scripts, both modern and historical, which people are still working to add.Given this enormous diversity, it’s inevitable that representing it is a complicated project. Unicode embraces that diversity, and accepts the complexity inherent in its mission to include all human writing systems. It doesn’t make a lot of trade-offs in the name of simplification, and it makes exceptions to its own rules where necessary to further its mission.Moreover, Unicode is committed not just to supporting texts in any single language, but also to letting multiple languages coexist within one text—which introduces even more complexity.Most programming languages have libraries available to handle the gory low-level details of text manipulation, but as a programmer, you’ll still need to know about certain Unicode features in order to know when and how to apply them. It may take some time to wrap your head around it all, but don’t be discouraged—think about the billions of people for whom your software will be more accessible through supporting text in their language. Embrace the complexity!The Unicode CodespaceLet’s start with some general orientation. The basic elements of Unicode—its “characters”, although that term isn’t quite right—are called code points. Code points are identified by number, customarily written in hexadecimal with the prefix “U+”, such as U+0041 “A” latin capital letter a or U+03B8 “θ” greek small letter theta. Each code point also has a short name, and quite a few other properties, specified in the Unicode Character Database.The set of all possible code points is called the codespace. The Unicode codespace consists of 1,114,112 code points. However, only 128,237 of them—about 12% of the codespace—are actually assigned, to date. There’s plenty of room for growth! Unicode also reserves an additional 137,468 code points as “private use” areas, which have no standardized meaning and are available for individual applications to define for their own purposes.Codespace AllocationTo get a feel for how the codespace is laid out, it’s helpful to visualize it. Below is a map of the entire codespace, with one pixel per code point. It’s arranged in tiles for visual coherence; each small square is 16×16 = 256 code points, and each large square is a “plane” of 65,536 code points. There are 17 planes altogether.Map of the Unicode codespace (click to zoom)White represents unassigned space. Blue is assigned code points, green is private-use areas, and the small red area is surrogates (more about those later). As you can see, the assigned code points are distributed somewhat sparsely, but concentrated in the first three planes.Plane 0 is also known as the “Basic Multilingual Plane”, or BMP. The BMP contains essentially all the characters needed for modern text in any script, including Latin, Cyrillic, Greek, Han (Chinese), Japanese, Korean, Arabic, Hebrew, Devanagari (Indian), and many more.(In the past, the codespace was just the BMP and no more—Unicode was originally conceived as a straightforward 16-bit encoding, with only 65,536 code points. It was expanded to its current size in 1996. However, the vast majority of code points in modern text belong to the BMP.)Plane 1 contains historical scripts, such as Sumerian cuneiform and Egyptian hieroglyphs, as well as emoji and various other symbols. Plane 2 contains a large block of less-common and historical Han characters. The remaining planes are empty, except for a small number of rarely-used formatting characters in Plane 14; planes 15–16 are reserved entirely for private use.ScriptsLet’s zoom in on the first three planes, since that’s where the action is:Map of scripts in Unicode planes 0–2 (click to zoom)This map color-codes the 135 different scripts in Unicode. You can see how Han () and Korean () take up most of the range of the BMP (the left large square). By contrast, all of the European, Middle Eastern, and South Asian scripts fit into the first row of the BMP in this diagram.Many areas of the codespace are adapted or copied from earlier encodings. For example, the first 128 code points of Unicode are just a copy of ASCII. This has clear benefits for compatibility—it’s easy to losslessly convert texts from smaller encodings into Unicode (and the other direction too, as long as no characters outside the smaller encoding are used).Usage FrequencyOne more interesting way to visualize the codespace is to look at the distribution of usage—in other words, how often each code point is actually used in real-world texts. Below is a heat map of planes 0–2 based on a large sample of text from Wikipedia and Twitter (all languages). Frequency increases from black (never seen) through red and yellow to white.Heat map of code point usage frequency in Unicode planes 0–2 (click to zoom)You can see that the vast majority of this text sample lies in the BMP, with only scattered usage of code points from planes 1–2. The biggest exception is emoji, which show up here as the several bright squares in the bottom row of plane 1.EncodingsWe’ve seen that Unicode code points are abstractly identified by their index in the codespace, ranging from U+0000 to U+10FFFF. But how do code points get represented as bytes, in memory or in a file?The most convenient, computer-friendliest (and programmer-friendliest) thing to do would be to just store the code point index as a 32-bit integer. This works, but it consumes 4 bytes per code point, which is sort of a lot. Using 32-bit ints for Unicode will cost you a bunch of extra storage, memory, and performance in bandwidth-bound scenarios, if you work with a lot of text.Consequently, there are several more-compact encodings for Unicode. The 32-bit integer encoding is officially called UTF-32 (UTF = “Unicode Transformation Format”), but it’s rarely used for storage. At most, it comes up sometimes as a temporary internal representation, for examining or operating on the code points in a string.Much more commonly, you’ll see Unicode text encoded as either UTF-8 or UTF-16. These are both variable-length encodings, made up of 8-bit or 16-bit units, respectively. In these schemes, code points with smaller index values take up fewer bytes, which saves a lot of memory for typical texts. The trade-off is that processing UTF-8/16 texts is more programmatically involved, and likely slower.UTF-8In UTF-8, each code point is stored using 1 to 4 bytes, based on its index value.UTF-8 uses a system of binary prefixes, in which the high bits of each byte mark whether it’s a single byte, the beginning of a multi-byte sequence, or a continuation byte; the remaining bits, concatenated, give the code point index. This table shows how it works:UTF-8 (binary) \tCode point (binary) \tRange0xxxxxxx \txxxxxxx \tU+0000–U+007F110xxxxx 10yyyyyy \txxxxxyyyyyy \tU+0080–U+07FF1110xxxx 10yyyyyy 10zzzzzz \txxxxyyyyyyzzzzzz \tU+0800–U+FFFF11110xxx 10yyyyyy 10zzzzzz 10wwwwww \txxxyyyyyyzzzzzzwwwwww \tU+10000–U+10FFFFA handy property of UTF-8 is that code points below 128 (ASCII characters) are encoded as single bytes, and all non-ASCII code points are encoded using sequences of bytes 128–255. This has a couple of nice consequences. First, any strings or files out there that are already in ASCII can also be interpreted as UTF-8 without any conversion. Second, lots of widely-used string programming idioms—such as null termination, or delimiters (newlines, tabs, commas, slashes, etc.)—will just work on UTF-8 strings. ASCII bytes never occur inside the encoding of non-ASCII code points, so searching byte-wise for a null terminator or a delimiter will do the right thing.Thanks to this convenience, it’s relatively simple to extend legacy ASCII programs and APIs to handle UTF-8 strings. UTF-8 is very widely used in the Unix/Linux and Web worlds, and many programmers argue UTF-8 should be the default encoding everywhere.However, UTF-8 isn’t a drop-in replacement for ASCII strings in all respects. For instance, code that iterates over the “characters” in a string will need to decode UTF-8 and iterate over code points (or maybe grapheme clusters—more about those later), not bytes. When you measure the “length” of a string, you’ll need to think about whether you want the length in bytes, the length in code points, the width of the text when rendered, or something else.UTF-16The other encoding that you’re likely to encounter is UTF-16. It uses 16-bit words, with each code point stored as either 1 or 2 words.Like UTF-8, we can express the UTF-16 encoding rules in the form of binary prefixes:UTF-16 (binary) \tCode point (binary) \tRangexxxxxxxxxxxxxxxx \txxxxxxxxxxxxxxxx \tU+0000–U+FFFF110110xxxxxxxxxx 110111yyyyyyyyyy \txxxxxxxxxxyyyyyyyyyy + 0x10000 \tU+10000–U+10FFFFA more common way that people talk about UTF-16 encoding, though, is in terms of code points called “surrogates”. All the code points in the range U+D800–U+DFFF—or in other words, the code points that match the binary prefixes 110110 and 110111 in the table above—are reserved specifically for UTF-16 encoding, and don’t represent any valid characters on their own. They’re only meant to occur in the 2-word encoding pattern above, which is called a “surrogate pair”. Surrogate code points are illegal in any other context! They’re not allowed in UTF-8 or UTF-32 at all.Historically, UTF-16 is a descendant of the original, pre-1996 versions of Unicode, in which there were only 65,536 code points. The original intention was that there would be no different “encodings”; Unicode was supposed to be a straightforward 16-bit character set. Later, the codespace was expanded to make room for a long tail of less-common (but still important) Han characters, which the Unicode designers didn’t originally plan for. Surrogates were then introduced, as—to put it bluntly—a kludge, allowing 16-bit encodings to access the new code points.Today, Javascript uses UTF-16 as its standard string representation: if you ask for the length of a string, or iterate over it, etc., the result will be in UTF-16 words, with any code points outside the BMP expressed as surrogate pairs. UTF-16 is also used by the Microsoft Win32 APIs; though Win32 supports either 8-bit or 16-bit strings, the 8-bit version unaccountably still doesn’t support UTF-8—only legacy code-page encodings, like ANSI. This leaves UTF-16 as the only way to get proper Unicode support in Windows. (Update: in Win10 version 1903, they finally added UTF-8 support to the 8-bit APIs! 😊)By the way, UTF-16’s words can be stored either little-endian or big-endian. Unicode has no opinion on that issue, though it does encourage the convention of putting U+FEFF zero width no-break space at the top of a UTF-16 file as a byte-order mark, to disambiguate the endianness. (If the file doesn’t match the system’s endianness, the BOM will be decoded as U+FFFE, which isn’t a valid code point.)Combining MarksIn the story so far, we’ve been focusing on code points. But in Unicode, a “character” can be more complicated than just an individual code point!Unicode includes a system for dynamically composing characters, by combining multiple code points together. This is used in various ways to gain flexibility without causing a huge combinatorial explosion in the number of code points.In European languages, for example, this shows up in the application of diacritics to letters. Unicode supports a wide range of diacritics, including acute and grave accents, umlauts, cedillas, and many more. All these diacritics can be applied to any letter of any alphabet—and in fact, multiple diacritics can be used on a single letter.If Unicode tried to assign a distinct code point to every possible combination of letter and diacritics, things would rapidly get out of hand. Instead, the dynamic composition system enables you to construct the character you want, by starting with a base code point (the letter) and appending additional code points, called “combining marks”, to specify the diacritics. When a text renderer sees a sequence like this in a string, it automatically stacks the diacritics over or under the base letter to create a composed character.For example, the accented character “Á” can be expressed as a string of two code points: U+0041 “A” latin capital letter a plus U+0301 “◌́” combining acute accent. This string automatically gets rendered as a single character: “Á”.Now, Unicode does also include many “precomposed” code points, each representing a letter with some combination of diacritics already applied, such as U+00C1 “Á” latin capital letter a with acute or U+1EC7 “ệ” latin small letter e with circumflex and dot below. I suspect these are mostly inherited from older encodings that were assimilated into Unicode, and kept around for compatibility. In practice, there are precomposed code points for most of the common letter-with-diacritic combinations in European-script languages, so they don’t use dynamic composition that much in typical text.Still, the system of combining marks does allow for an arbitrary number of diacritics to be stacked on any base character. The reductio-ad-absurdum of this is Zalgo text, which works by ͖͟ͅr͞aṋ̫̠̖͈̗d͖̻̹óm̪͙͕̗̝ļ͇̰͓̳̫ý͓̥̟͍ ̕s̫t̫̱͕̗̰̼̘͜a̼̩͖͇̠͈̣͝c̙͍k̖̱̹͍͘i̢n̨̺̝͇͇̟͙ģ̫̮͎̻̟ͅ ̕n̼̺͈͞u̮͙m̺̭̟̗͞e̞͓̰̤͓̫r̵o̖ṷs҉̪͍̭̬̝̤ ̮͉̝̞̗̟͠d̴̟̜̱͕͚i͇̫̼̯̭̜͡ḁ͙̻̼c̲̲̹r̨̠̹̣̰̦i̱t̤̻̤͍͙̘̕i̵̜̭̤̱͎c̵s ͘o̱̲͈̙͖͇̲͢n͘ ̜͈e̬̲̠̩ac͕̺̠͉h̷̪ ̺̣͖̱ḻ̫̬̝̹ḙ̙̺͙̭͓̲t̞̞͇̲͉͍t̷͔̪͉̲̻̠͙e̦̻͈͉͇r͇̭̭̬͖,̖́ ̜͙͓̣̭s̘̘͈o̱̰̤̲ͅ ̛̬̜̙t̼̦͕̱̹͕̥h̳̲͈͝ͅa̦t̻̲ ̻̟̭̦̖t̛̰̩h̠͕̳̝̫͕e͈̤̘͖̞͘y҉̝͙ ̷͉͔̰̠o̞̰v͈͈̳̘͜er̶f̰͈͔ḻ͕̘̫̺̲o̲̭͙͠ͅw̱̳̺ ͜t̸h͇̭͕̳͍e̖̯̟̠ ͍̞̜͔̩̪͜ļ͎̪̲͚i̝̲̹̙̩̹n̨̦̩̖ḙ̼̲̼͢ͅ ̬͝s̼͚̘̞͝p͙̘̻a̙c҉͉̜̤͈̯̖i̥͡n̦̠̱͟g̸̗̻̦̭̮̟ͅ ̳̪̠͖̳̯̕a̫͜n͝d͡ ̣̦̙ͅc̪̗r̴͙̮̦̹̳e͇͚̞͔̹̫͟a̙̺̙ț͔͎̘̹ͅe̥̩͍ a͖̪̜̮͙̹n̢͉̝ ͇͉͓̦̼́a̳͖̪̤̱p̖͔͔̟͇͎͠p̱͍̺ę̲͎͈̰̲̤̫a̯͜r̨̮̫̣̘a̩̯͖n̹̦̰͎̣̞̞c̨̦̱͔͎͍͖e̬͓͘ ̤̰̩͙̤̬͙o̵̼̻̬̻͇̮̪f̴ ̡̙̭͓͖̪̤“̸͙̠̼c̳̗͜o͏̼͙͔̮r̞̫̺̞̥̬ru̺̻̯͉̭̻̯p̰̥͓̣̫̙̤͢t̳͍̳̖ͅi̶͈̝͙̼̙̹o̡͔n̙̺̹̖̩͝ͅ”̨̗͖͚̩.̯͓A few other places where dynamic character composition shows up in Unicode:Vowel-pointing notation in Arabic and Hebrew. In these languages, words are normally spelled with some of their vowels left out. They then have diacritic notation to indicate the vowels (used in dictionaries, language-teaching materials, children’s books, and such). These diacritics are expressed with combining marks.A Hebrew example, with niqqud:\tאֶת דַלְתִּי הֵזִיז הֵנִיעַ, קֶטֶב לִשְׁכַּתִּי יָשׁוֹדNormal writing (no niqqud):\tאת דלתי הזיז הניע, קטב לשכתי ישודDevanagari, the script used to write Hindi, Sanskrit, and many other South Asian languages, expresses certain vowels as combining marks attached to consonant letters. For example, “ह” + “​ि” = “हि” (“h” + “i” = “hi”).Korean characters stand for syllables, but they are composed of letters called jamo that stand for the vowels and consonants in the syllable. While there are code points for precomposed Korean syllables, it’s also possible to dynamically compose them by concatenating their jamo. For example, “ᄒ” + “ᅡ” + “ᆫ” = “한” (“h” + “a” + “n” = “han”).Canonical EquivalenceIn Unicode, precomposed characters exist alongside the dynamic composition system. A consequence of this is that there are multiple ways to express “the same” string—different sequences of code points that result in the same user-perceived characters. For example, as we saw earlier, we can express the character “Á” either as the single code point U+00C1, or as the string of two code points U+0041 U+0301.Another source of ambiguity is the ordering of multiple diacritics in a single character. Diacritic order matters visually when two diacritics apply to the same side of the base character, e.g. both above: “ǡ” (dot, then macron) is different from “ā̇” (macron, then dot). However, when diacritics apply to different sides of the character, e.g. one above and one below, then the order doesn’t affect rendering. Moreover, a character with multiple diacritics might have one of the diacritics precomposed and others expressed as combining marks.For example, the Vietnamese letter “ệ” can be expressed in five different ways:Fully precomposed: U+1EC7 “ệ”Partially precomposed: U+1EB9 “ẹ” + U+0302 “◌̂”Partially precomposed: U+00EA “ê” + U+0323 “◌̣”Fully decomposed: U+0065 “e” + U+0323 “◌̣” + U+0302 “◌̂”Fully decomposed: U+0065 “e” + U+0302 “◌̂” + U+0323 “◌̣”Unicode refers to set of strings like this as “canonically equivalent”. Canonically equivalent strings are supposed to be treated as identical for purposes of searching, sorting, rendering, text selection, and so on. This has implications for how you implement operations on text. For example, if an app has a “find in file” operation and the user searches for “ệ”, it should, by default, find occurrences of any of the five versions of “ệ” above!Normalization FormsTo address the problem of “how to handle canonically equivalent strings”, Unicode defines several normalization forms: ways of converting strings into a canonical form so that they can be compared code-point-by-code-point (or byte-by-byte).The “NFD” normalization form fully decomposes every character down to its component base and combining marks, taking apart any precomposed code points in the string. It also sorts the combining marks in each character according to their rendered position, so e.g. diacritics that go below the character come before the ones that go above the character. (It doesn’t reorder diacritics in the same rendered position, since their order matters visually, as previously mentioned.)The “NFC” form, conversely, puts things back together into precomposed code points as much as possible. If an unusual combination of diacritics is called for, there may not be any precomposed code point for it, in which case NFC still precomposes what it can and leaves any remaining combining marks in place (again ordered by rendered position, as in NFD).There are also forms called NFKD and NFKC. The “K” here refers to compatibility decompositions, which cover characters that are “similar” in some sense but not visually identical. However, I’m not going to cover that here.Grapheme ClustersAs we’ve seen, Unicode contains various cases where a thing that a user thinks of as a single “character” might actually be made up of multiple code points under the hood. Unicode formalizes this using the notion of a grapheme cluster: a string of one or more code points that constitute a single “user-perceived character”.UAX #29 defines the rules for what, precisely, qualifies as a grapheme cluster. It’s approximately “a base code point followed by any number of combining marks”, but the actual definition is a bit more complicated; it accounts for things like Korean jamo, and emoji ZWJ sequences.The main thing grapheme clusters are used for is text editing: they’re often the most sensible unit for cursor placement and text selection boundaries. Using grapheme clusters for these purposes ensures that you can’t accidentally chop off some diacritics when you copy-and-paste text, that left/right arrow keys always move the cursor by one visible character, and so on.Another place where grapheme clusters are useful is in enforcing a string length limit—say, on a database field. While the true, underlying limit might be something like the byte length of the string in UTF-8, you wouldn’t want to enforce that by just truncating bytes. At a minimum, you’d want to “round down” to the nearest code point boundary; but even better, round down to the nearest grapheme cluster boundary. Otherwise, you might be corrupting the last character by cutting off a diacritic, or interrupting a jamo sequence or ZWJ sequence.And More…There’s much more that could be said about Unicode from a programmer’s perspective! I haven’t gotten into such fun topics as case mapping, collation, compatibility decompositions and confusables, Unicode-aware regexes, or bidirectional text. Nor have I said anything yet about implementation issues—how to efficiently store and look-up data about the sparsely-assigned code points, or how to optimize UTF-8 decoding, string comparison, or NFC normalization. Perhaps I’ll return to some of those things in future posts.Unicode is a fascinating and complex system. It has a many-to-one mapping between bytes and code points, and on top of that a many-to-one (or, under some circumstances, many-to-many) mapping between code points and “characters”. It has oddball special cases in every corner. But no one ever claimed that representing all written languages was going to be easy, and it’s clear that we’re never going back to the bad old days of a patchwork of incompatible encodings.Further reading:The Unicode StandardUTF-8 Everywhere ManifestoDark corners of Unicode by EeveeICU (International Components for Unicode)—C/C++/Java libraries implementing many Unicode algorithms and related thingsPython 3 Unicode HowtoGoogle Noto Fonts—set of fonts intended to cover all assigned code points\"\"\"\n",
    "tokens = list(text.encode(\"utf-8\"))\n",
    "bpetokens = bpe(tokens)\n",
    "\n",
    "print(\"length:\", len(text))\n",
    "print(\"length:\", len(tokens))\n",
    "print(\"length:\", len(bpetokens))\n",
    "print(\"max token:\", max(bpetokens))"
   ]
  },
  {
   "cell_type": "markdown",
   "id": "38de7284-a034-4c05-8e8c-916186e7a692",
   "metadata": {},
   "source": [
    "BPE optimization: \n",
    "\n",
    "original text - length: 23110\n",
    "\n",
    "utf8 - length: 24372\n",
    "\n",
    "bpe - length: 5362, max token: 2133"
   ]
  },
  {
   "cell_type": "code",
   "execution_count": 9,
   "id": "efde5b48-12ac-42a3-b34f-4bf1baf6a687",
   "metadata": {
    "tags": []
   },
   "outputs": [],
   "source": [
    "# put everything together + keep track of merges\n",
    "def max_pairs(tokens):\n",
    "    counts = {}\n",
    "    for pair in zip(tokens, tokens[1:]):\n",
    "        counts[pair] = counts.get(pair, 0) + 1\n",
    "    return counts\n",
    "\n",
    "def merge(tokens, pair, num):\n",
    "    newtokens = []\n",
    "    i = 0\n",
    "    n = len(tokens)\n",
    "    while i < n:\n",
    "        if i + 1 < n and tokens[i] == pair[0] and tokens[i+1] == pair[1]:\n",
    "            newtokens.append(num)\n",
    "            i += 2\n",
    "        else:\n",
    "            newtokens.append(tokens[i])\n",
    "            i += 1\n",
    "    return newtokens\n",
    "\n",
    "def bpe(tokens, num=256, vocab_size=1e6):\n",
    "    bpetokens = tokens\n",
    "    merges = {}\n",
    "\n",
    "    while num < vocab_size:\n",
    "        counts = max_pairs(bpetokens)\n",
    "        if max(counts.values()) < 2: \n",
    "            break\n",
    "        max_pair = max(counts, key=counts.get)\n",
    "        merges[max_pair] = num\n",
    "        bpetokens = merge(bpetokens, max_pair, num)\n",
    "        # print(f\"Merged {max_pair} into {num}\")\n",
    "        num += 1\n",
    "    # print(f\"Vocab size: {len(merges) + 256}\")\n",
    "    return bpetokens, merges\n",
    "\n",
    "bpetokens, merges = bpe(tokens, vocab_size = 400)\n"
   ]
  },
  {
   "cell_type": "code",
   "execution_count": 10,
   "id": "7d4ce06c-ffa5-4399-89de-6e37a0f79185",
   "metadata": {
    "tags": []
   },
   "outputs": [
    {
     "name": "stdout",
     "output_type": "stream",
     "text": [
      "Vocab size: 400\n"
     ]
    }
   ],
   "source": [
    "bpetokens, merges = bpe(tokens, vocab_size = 400)\n",
    "vocab = {idx : bytes([idx]) for idx in range(256)}\n",
    "for (p0, p1), idx in merges.items():\n",
    "    vocab[idx] = vocab[p0] + vocab[p1]\n",
    "    \n",
    "print(f\"Vocab size: {len(vocab.items())}\")"
   ]
  },
  {
   "cell_type": "code",
   "execution_count": 11,
   "id": "fb5140a5-ab73-4a46-9d77-2a9acbc7dc8a",
   "metadata": {
    "tags": []
   },
   "outputs": [
    {
     "data": {
      "text/plain": [
       "'diacritic'"
      ]
     },
     "execution_count": 11,
     "metadata": {},
     "output_type": "execute_result"
    }
   ],
   "source": [
    "def decode(ids):\n",
    "    tokens = b\"\".join(vocab[idx] for idx in ids)\n",
    "    text = tokens.decode(\"utf-8\", errors=\"replace\")\n",
    "    return text\n",
    "decode([399])"
   ]
  },
  {
   "cell_type": "markdown",
   "id": "35d6b440-09f0-498f-8b4d-1e4a6172fea6",
   "metadata": {},
   "source": [
    "One thing to note is that certain bytes actually cause errors because the binary representation of the byte does not follow UTF-8 coding standards. take for example 128. Therefore, I am replacing non-decodable characters into an unidentifyable character byte. "
   ]
  },
  {
   "cell_type": "code",
   "execution_count": 12,
   "id": "06057c61-1c12-4b22-8617-eccf530d23e5",
   "metadata": {
    "tags": []
   },
   "outputs": [
    {
     "data": {
      "text/plain": [
       "{(101, 32): 256,\n",
       " (105, 110): 257,\n",
       " (115, 32): 258,\n",
       " (116, 104): 259,\n",
       " (101, 114): 260,\n",
       " (99, 111): 261,\n",
       " (116, 32): 262,\n",
       " (226, 128): 263,\n",
       " (44, 32): 264,\n",
       " (97, 110): 265,\n",
       " (111, 114): 266,\n",
       " (100, 32): 267,\n",
       " (97, 114): 268,\n",
       " (101, 110): 269,\n",
       " (257, 103): 270,\n",
       " (261, 100): 271,\n",
       " (121, 32): 272,\n",
       " (97, 108): 273,\n",
       " (259, 256): 274,\n",
       " (111, 110): 275,\n",
       " (111, 32): 276,\n",
       " (116, 105): 277,\n",
       " (97, 99): 278,\n",
       " (101, 115): 279,\n",
       " (111, 102): 280,\n",
       " (271, 256): 281,\n",
       " (46, 32): 282,\n",
       " (112, 111): 283,\n",
       " (280, 32): 284,\n",
       " (270, 32): 285,\n",
       " (101, 267): 286,\n",
       " (116, 260): 287,\n",
       " (116, 276): 288,\n",
       " (257, 32): 289,\n",
       " (97, 32): 290,\n",
       " (266, 32): 291,\n",
       " (115, 116): 292,\n",
       " (111, 117): 293,\n",
       " (120, 120): 294,\n",
       " (99, 104): 295,\n",
       " (101, 120): 296,\n",
       " (101, 258): 297,\n",
       " (263, 156): 298,\n",
       " (263, 157): 299,\n",
       " (261, 109): 300,\n",
       " (265, 267): 301,\n",
       " (112, 108): 302,\n",
       " (105, 116): 303,\n",
       " (283, 257): 304,\n",
       " (114, 101): 305,\n",
       " (273, 108): 306,\n",
       " (110, 105): 307,\n",
       " (97, 116): 308,\n",
       " (260, 32): 309,\n",
       " (263, 153): 310,\n",
       " (105, 258): 311,\n",
       " (281, 304): 312,\n",
       " (97, 258): 313,\n",
       " (85, 307): 314,\n",
       " (100, 105): 315,\n",
       " (111, 119): 316,\n",
       " (277, 275): 317,\n",
       " (117, 115): 318,\n",
       " (116, 258): 319,\n",
       " (114, 105): 320,\n",
       " (115, 101): 321,\n",
       " (115, 105): 322,\n",
       " (97, 262): 323,\n",
       " (97, 109): 324,\n",
       " (299, 32): 325,\n",
       " (115, 264): 326,\n",
       " (314, 281): 327,\n",
       " (114, 111): 328,\n",
       " (108, 108): 329,\n",
       " (265, 32): 330,\n",
       " (108, 101): 331,\n",
       " (121, 121): 332,\n",
       " (295, 268): 333,\n",
       " (278, 287): 334,\n",
       " (84, 104): 335,\n",
       " (102, 291): 336,\n",
       " (97, 98): 337,\n",
       " (333, 334): 338,\n",
       " (85, 84): 339,\n",
       " (339, 70): 340,\n",
       " (119, 105): 341,\n",
       " (340, 45): 342,\n",
       " (85, 43): 343,\n",
       " (268, 256): 344,\n",
       " (259, 323): 345,\n",
       " (97, 112): 346,\n",
       " (119, 104): 347,\n",
       " (101, 109): 348,\n",
       " (115, 117): 349,\n",
       " (105, 99): 350,\n",
       " (273, 32): 351,\n",
       " (97, 115): 352,\n",
       " (32, 284): 353,\n",
       " (32, 298): 354,\n",
       " (105, 262): 355,\n",
       " (118, 260): 356,\n",
       " (292, 114): 357,\n",
       " (101, 264): 358,\n",
       " (108, 256): 359,\n",
       " (111, 109): 360,\n",
       " (277, 99): 361,\n",
       " (48, 48): 362,\n",
       " (97, 103): 363,\n",
       " (97, 317): 364,\n",
       " (261, 110): 365,\n",
       " (101, 108): 366,\n",
       " (294, 294): 367,\n",
       " (98, 256): 368,\n",
       " (269, 32): 369,\n",
       " (310, 258): 370,\n",
       " (259, 32): 371,\n",
       " (113, 117): 372,\n",
       " (114, 279): 373,\n",
       " (312, 319): 374,\n",
       " (116, 296): 375,\n",
       " (295, 32): 376,\n",
       " (263, 148): 377,\n",
       " (279, 264): 378,\n",
       " (329, 32): 379,\n",
       " (275, 32): 380,\n",
       " (49, 54): 381,\n",
       " (98, 257): 382,\n",
       " (306, 272): 383,\n",
       " (282, 335): 384,\n",
       " (300, 283): 385,\n",
       " (121, 293): 386,\n",
       " (100, 101): 387,\n",
       " (265, 272): 388,\n",
       " (278, 320): 389,\n",
       " (389, 361): 390,\n",
       " (103, 104): 391,\n",
       " (102, 105): 392,\n",
       " (342, 56): 393,\n",
       " (266, 109): 394,\n",
       " (260, 256): 395,\n",
       " (312, 116): 396,\n",
       " (269, 271): 397,\n",
       " (98, 121): 398,\n",
       " (315, 390): 399}"
      ]
     },
     "execution_count": 12,
     "metadata": {},
     "output_type": "execute_result"
    }
   ],
   "source": [
    "merges"
   ]
  },
  {
   "cell_type": "code",
   "execution_count": 14,
   "id": "490df89c-3f59-47b7-baa3-c3b10b133fb4",
   "metadata": {
    "tags": []
   },
   "outputs": [
    {
     "name": "stdout",
     "output_type": "stream",
     "text": [
      "[106, 117, 110, 99, 317]\n"
     ]
    },
    {
     "data": {
      "text/plain": [
       "[399]"
      ]
     },
     "execution_count": 14,
     "metadata": {},
     "output_type": "execute_result"
    }
   ],
   "source": [
    "def get_stats(ids):\n",
    "    counts = {}\n",
    "    for pair in zip(ids, ids[1:]):\n",
    "        counts[pair] = counts.get(pair, 0) + 1\n",
    "    return counts\n",
    "def encode(text):\n",
    "    tokens = list(text.encode(\"utf-8\"))\n",
    "    while len(tokens) > 1:\n",
    "        stats = get_stats(tokens)\n",
    "        pair = min(stats, key=lambda p: merges.get(p, float(\"inf\")))\n",
    "        if pair not in merges:\n",
    "            break # nothing else can be merged\n",
    "        idx = merges[pair]\n",
    "        tokens = merge(tokens, pair, idx)\n",
    "        \n",
    "    return tokens\n",
    "print(encode(\"junction\"))\n",
    "encode(\"diacritic\")"
   ]
  },
  {
   "cell_type": "markdown",
   "id": "122c70dc-0b09-4060-8122-487fd1ea226e",
   "metadata": {},
   "source": [
    "Now lets move on to REGEX patterns\n",
    "A regex pattern splits the string based on punctuation, spaces, etc. The purpose of regex patterns is to stop specific merges between letters and numbers and etc. By preventing specific merges, we can force the model to look at sentences the same way we are. For example, without regex the model might pair up \"n fac\" in the phrase \"in fact\" even though we wouldn't want the model to contain tokenization that doesn't really make sense. "
   ]
  },
  {
   "cell_type": "markdown",
   "id": "a0cf5031-df0e-40d4-8797-c2d2f6511190",
   "metadata": {},
   "source": [
    "Flaw:\n",
    "Sometimes the tokenization works for but not uppercase\n",
    "for example \n",
    "1. how's -> how, 's\n",
    "2. HOW'S -> HOW'S"
   ]
  },
  {
   "cell_type": "code",
   "execution_count": 6,
   "id": "81ad29e8-d1fa-4562-b7f8-9e7bfd0ad318",
   "metadata": {
    "tags": []
   },
   "outputs": [
    {
     "name": "stdout",
     "output_type": "stream",
     "text": [
      "['Hello', '!', ' How', ' are', ' you', '.', ' THEY', ' C', \"'s\", 'AS', ' INSANE']\n"
     ]
    }
   ],
   "source": [
    "import regex as re\n",
    "gpt2pat = re.compile(r\"\"\"'s|'t|'re|'ve|'m|'ll|'d| ?\\p{L}+| ?\\p{N}+| ?[^\\s\\p{L}\\p{N}]+|\\s+(?!\\S)|\\s+\"\"\")\n",
    "\n",
    "print(re.findall(gpt2pat, \"Hello! How are you. THEY C'sAS INSANE\"))"
   ]
  },
  {
   "cell_type": "markdown",
   "id": "d5e2663f-7a81-48d2-b9e0-4a9959542faf",
   "metadata": {},
   "source": [
    "Another pattern is the space + word. With this combination, we can keep consistency and everything other than the first line of a sentence "
   ]
  },
  {
   "cell_type": "markdown",
   "id": "8237dd2e-aefc-4e4b-8cec-405df479374d",
   "metadata": {},
   "source": [
    "Here is another real world example (regarding code)"
   ]
  },
  {
   "cell_type": "code",
   "execution_count": 7,
   "id": "abadc35d-374c-4592-8f19-de16cd401084",
   "metadata": {
    "tags": []
   },
   "outputs": [
    {
     "name": "stdout",
     "output_type": "stream",
     "text": [
      "['\\n', 'for', ' i', ' in', ' range', '(', '1', ',', ' 101', '):', '\\n   ', ' if', ' i', ' %', ' 3', ' ==', ' 0', ' and', ' i', ' %', ' 5', ' ==', ' 0', ':', '\\n       ', ' print', '(\"', 'FizzBuzz', '\")', '\\n   ', ' elif', ' i', ' %', ' 3', ' ==', ' 0', ':', '\\n       ', ' print', '(\"', 'Fizz', '\")', '\\n   ', ' elif', ' i', ' %', ' 5', ' ==', ' 0', ':', '\\n       ', ' print', '(\"', 'Buzz', '\")', '\\n   ', ' else', ':', '\\n       ', ' print', '(', 'i', ')', '\\n']\n"
     ]
    }
   ],
   "source": [
    "example = \"\"\"\n",
    "for i in range(1, 101):\n",
    "    if i % 3 == 0 and i % 5 == 0:\n",
    "        print(\"FizzBuzz\")\n",
    "    elif i % 3 == 0:\n",
    "        print(\"Fizz\")\n",
    "    elif i % 5 == 0:\n",
    "        print(\"Buzz\")\n",
    "    else:\n",
    "        print(i)\n",
    "\"\"\"\n",
    "print(re.findall(gpt2pat, example))"
   ]
  },
  {
   "cell_type": "markdown",
   "id": "aa16a79d-9232-45da-ad32-0136e813be72",
   "metadata": {},
   "source": [
    "OpenAI maintains additional rules apart from chunking and bpe. OpenAI never released the training code for GPT-2’s tokenizer—only inference code. So we don’t know the exact training procedure. it wasn’t just “chunk then run vanilla BPE,” because e.g. the “spaces don’t merge” behavior implies extra rules beyond plain BPE.\n",
    "\n",
    "GPT4 Differences:\n",
    "\n",
    "Case-insensitive handling of contractions ('s, 'd, 'm, etc.).\\\n",
    "Different whitespace handling (details are fiddly).\\\n",
    "Numbers: matches only 1–3 digits at a time, avoiding very long numeric tokens.\\\n",
    "Motivations aren’t documented; we just have the pattern.\n",
    "\n",
    "Also: GPT-2 ~ 50k tokens → GPT-4 ~ 100k (cl100k).\n",
    "\n",
    "Overall pipeline (same as us) used in GPT: byte-encode → BPE-encode → BPE-decode → byte-decode."
   ]
  },
  {
   "cell_type": "code",
   "execution_count": 8,
   "id": "26fa2aea-2220-43a6-bed3-238f63c11c0b",
   "metadata": {
    "tags": []
   },
   "outputs": [
    {
     "name": "stdout",
     "output_type": "stream",
     "text": [
      "Collecting tiktoken\n",
      "  Downloading tiktoken-0.11.0-cp311-cp311-manylinux_2_17_x86_64.manylinux2014_x86_64.whl.metadata (6.7 kB)\n",
      "Requirement already satisfied: regex>=2022.1.18 in /usr/local/lib/python3.11/dist-packages (from tiktoken) (2023.12.25)\n",
      "Requirement already satisfied: requests>=2.26.0 in /usr/local/lib/python3.11/dist-packages (from tiktoken) (2.31.0)\n",
      "Requirement already satisfied: charset-normalizer<4,>=2 in /usr/local/lib/python3.11/dist-packages (from requests>=2.26.0->tiktoken) (3.3.2)\n",
      "Requirement already satisfied: idna<4,>=2.5 in /usr/lib/python3/dist-packages (from requests>=2.26.0->tiktoken) (3.3)\n",
      "Requirement already satisfied: urllib3<3,>=1.21.1 in /usr/local/lib/python3.11/dist-packages (from requests>=2.26.0->tiktoken) (2.0.7)\n",
      "Requirement already satisfied: certifi>=2017.4.17 in /usr/lib/python3/dist-packages (from requests>=2.26.0->tiktoken) (2020.6.20)\n",
      "Downloading tiktoken-0.11.0-cp311-cp311-manylinux_2_17_x86_64.manylinux2014_x86_64.whl (1.2 MB)\n",
      "\u001b[2K   \u001b[90m━━━━━━━━━━━━━━━━━━━━━━━━━━━━━━━━━━━━━━━━\u001b[0m \u001b[32m1.2/1.2 MB\u001b[0m \u001b[31m20.0 MB/s\u001b[0m eta \u001b[36m0:00:00\u001b[0m \u001b[36m0:00:01\u001b[0m\n",
      "\u001b[?25hInstalling collected packages: tiktoken\n",
      "Successfully installed tiktoken-0.11.0\n",
      "\u001b[33mWARNING: Running pip as the 'root' user can result in broken permissions and conflicting behaviour with the system package manager. It is recommended to use a virtual environment instead: https://pip.pypa.io/warnings/venv\u001b[0m\u001b[33m\n",
      "\u001b[0m"
     ]
    }
   ],
   "source": [
    "!pip install tiktoken # added for colab"
   ]
  },
  {
   "cell_type": "code",
   "execution_count": 9,
   "id": "1d8d5c82-1533-470a-afc5-a2ff9ec9ffef",
   "metadata": {
    "tags": []
   },
   "outputs": [
    {
     "name": "stdout",
     "output_type": "stream",
     "text": [
      "--2025-09-02 21:32:10--  https://openaipublic.blob.core.windows.net/gpt-2/models/1558M/vocab.bpe\n",
      "Resolving openaipublic.blob.core.windows.net (openaipublic.blob.core.windows.net)... 57.150.104.161\n",
      "Connecting to openaipublic.blob.core.windows.net (openaipublic.blob.core.windows.net)|57.150.104.161|:443... connected.\n",
      "HTTP request sent, awaiting response... 200 OK\n",
      "Length: 456318 (446K) [application/octet-stream]\n",
      "Saving to: ‘vocab.bpe’\n",
      "\n",
      "vocab.bpe           100%[===================>] 445.62K  1.80MB/s    in 0.2s    \n",
      "\n",
      "2025-09-02 21:32:11 (1.80 MB/s) - ‘vocab.bpe’ saved [456318/456318]\n",
      "\n",
      "--2025-09-02 21:32:11--  https://openaipublic.blob.core.windows.net/gpt-2/models/1558M/encoder.json\n",
      "Resolving openaipublic.blob.core.windows.net (openaipublic.blob.core.windows.net)... 57.150.104.161\n",
      "Connecting to openaipublic.blob.core.windows.net (openaipublic.blob.core.windows.net)|57.150.104.161|:443... connected.\n",
      "HTTP request sent, awaiting response... 200 OK\n",
      "Length: 1042301 (1018K) [application/json]\n",
      "Saving to: ‘encoder.json’\n",
      "\n",
      "encoder.json        100%[===================>]   1018K  3.54MB/s    in 0.3s    \n",
      "\n",
      "2025-09-02 21:32:11 (3.54 MB/s) - ‘encoder.json’ saved [1042301/1042301]\n",
      "\n"
     ]
    }
   ],
   "source": [
    "!wget https://openaipublic.blob.core.windows.net/gpt-2/models/1558M/vocab.bpe\n",
    "!wget https://openaipublic.blob.core.windows.net/gpt-2/models/1558M/encoder.json"
   ]
  },
  {
   "cell_type": "code",
   "execution_count": 10,
   "id": "a1a02d93-97e4-4ea4-be61-39e8791a3176",
   "metadata": {
    "tags": []
   },
   "outputs": [],
   "source": [
    "import os, json\n",
    "\n",
    "with open('encoder.json', 'r') as f:\n",
    "    encoder = json.load(f) # <--- ~equivalent to our \"vocab\"\n",
    "\n",
    "with open('vocab.bpe', 'r', encoding=\"utf-8\") as f:\n",
    "    bpe_data = f.read()\n",
    "bpe_merges = [tuple(merge_str.split()) for merge_str in bpe_data.split('\\n')[1:-1]]\n",
    "# ^---- ~equivalent to our \"merges\""
   ]
  },
  {
   "cell_type": "code",
   "execution_count": 11,
   "id": "60f7bbb8-a4fb-4abe-a758-17bd796ecdd3",
   "metadata": {
    "tags": []
   },
   "outputs": [
    {
     "data": {
      "text/plain": [
       "50257"
      ]
     },
     "execution_count": 11,
     "metadata": {},
     "output_type": "execute_result"
    }
   ],
   "source": [
    "len(encoder)"
   ]
  },
  {
   "cell_type": "markdown",
   "id": "1587fdb4-9e4a-4c03-bf39-29e36bf9bf84",
   "metadata": {},
   "source": [
    "### **SPECIAL TOKENS**\n",
    "As you can see the standard number of tokens is 256 and the number of merges is 50k. So what is this extra 1 special token?\\\n",
    "50000 + 256 + 1 = 50257"
   ]
  },
  {
   "cell_type": "code",
   "execution_count": 14,
   "id": "e8bffdf1-0da4-41e3-abbc-d770b2071146",
   "metadata": {
    "tags": []
   },
   "outputs": [
    {
     "data": {
      "text/plain": [
       "('<|endoftext|>', 50256)"
      ]
     },
     "execution_count": 14,
     "metadata": {},
     "output_type": "execute_result"
    }
   ],
   "source": [
    "list(encoder.items())[-1]"
   ]
  },
  {
   "cell_type": "markdown",
   "id": "492d5e62-e24b-43d4-823c-dd8d1b32d416",
   "metadata": {},
   "source": [
    "When working with multiple documents, we place end of text in order to tell the model that the previous document is unrelated to the next document\\\n",
    "We also get special case handling for special tokens. Whenever we see special tokens, we don't go through typical byte pair encoding but instead go through special instructions.\n",
    "In prompt based models, we also have the \\<im_start\\> and \\<im_end\\> tokens\n",
    "\n",
    "<secret text hahahahasdhflkjhsdkjfhasdkjfh>"
   ]
  },
  {
   "cell_type": "code",
   "execution_count": null,
   "id": "654de2bf-610e-4e9f-b8cd-1b957df248d2",
   "metadata": {},
   "outputs": [],
   "source": []
  }
 ],
 "metadata": {
  "kernelspec": {
   "display_name": "Python 3 (ipykernel)",
   "language": "python",
   "name": "python3"
  },
  "language_info": {
   "codemirror_mode": {
    "name": "ipython",
    "version": 3
   },
   "file_extension": ".py",
   "mimetype": "text/x-python",
   "name": "python",
   "nbconvert_exporter": "python",
   "pygments_lexer": "ipython3",
   "version": "3.11.7"
  }
 },
 "nbformat": 4,
 "nbformat_minor": 5
}
